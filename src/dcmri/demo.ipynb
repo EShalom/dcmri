{
 "cells": [
  {
   "cell_type": "code",
   "execution_count": null,
   "metadata": {},
   "outputs": [],
   "source": [
    "import time\n",
    "import numpy as np\n",
    "import matplotlib.pyplot as plt\n",
    "\n",
    "import contrib_dro as dro\n",
    "import contrib_rt as rt\n",
    "import contrib_syst as syst"
   ]
  },
  {
   "cell_type": "code",
   "execution_count": null,
   "metadata": {},
   "outputs": [],
   "source": [
    "truth = dro.organ_perf_1d()\n",
    "truth.calc_conc(split=True)\n",
    "truth.plot_pars()"
   ]
  },
  {
   "cell_type": "code",
   "execution_count": null,
   "metadata": {},
   "outputs": [],
   "source": [
    "# res = (2, 2)\n",
    "# rec = syst.Perf1D(\n",
    "#     dim=truth.dim, mat=truth.mat,\n",
    "#     Jpa=2*np.ones(res[0]), Jna=2*np.ones(res[0]), \n",
    "#     ua=np.ones(res[1]), uv=np.ones(res[1]), \n",
    "#     Kva = np.zeros(res[1]),\n",
    "#     nx=truth.nx, umax=20, Jmax=5, Kmax=10, \n",
    "#     )\n",
    "\n",
    "res = (2, 2)\n",
    "rec = syst.Perf1D(\n",
    "    dim=truth.dim, mat=truth.mat,\n",
    "    Jpa=np.zeros(res[0]), Jna=np.zeros(res[0]), \n",
    "    ua=np.zeros(res[1]), uv=np.zeros(res[1]), \n",
    "    Kva = np.zeros(res[1]),\n",
    "    nx=truth.nx, umax=30, Jmax=10, Kmax=20, \n",
    "    )"
   ]
  },
  {
   "cell_type": "code",
   "execution_count": null,
   "metadata": {},
   "outputs": [],
   "source": [
    "start = time.time()\n",
    "p, pcov, pcorr = rec.mres_fit_to(truth.C, xtol=1e-3, mxtol=1e-2)\n",
    "rec.plot_conc(data=truth.C)\n",
    "rec.plot_pars(truth=truth)"
   ]
  },
  {
   "cell_type": "code",
   "execution_count": null,
   "metadata": {},
   "outputs": [],
   "source": [
    "start = time.time()\n",
    "p, pcov, pcorr = rec.fit_to(truth.C, xtol=1e-3)\n",
    "print('Calculation time (mins): ', (time.time()-start)/60)\n",
    "print('Parameter correction (%): ', 100*pcorr)\n",
    "rec.plot_conc(data=truth.C)\n",
    "rec.plot_pars(truth=truth)"
   ]
  },
  {
   "cell_type": "code",
   "execution_count": null,
   "metadata": {},
   "outputs": [],
   "source": [
    "start = time.time()\n",
    "rec.resample((2,2))\n",
    "p, pcov, pcorr = rec.fit_to(truth.C, xtol=1e-3)\n",
    "print('Calculation time (mins): ', (time.time()-start)/60)\n",
    "print('Parameter correction (%): ', 100*pcorr)\n",
    "rec.plot_conc(data=truth.C)\n",
    "rec.plot_pars(truth=truth)"
   ]
  }
 ],
 "metadata": {
  "kernelspec": {
   "display_name": ".venv",
   "language": "python",
   "name": "python3"
  },
  "language_info": {
   "codemirror_mode": {
    "name": "ipython",
    "version": 3
   },
   "file_extension": ".py",
   "mimetype": "text/x-python",
   "name": "python",
   "nbconvert_exporter": "python",
   "pygments_lexer": "ipython3",
   "version": "3.10.10"
  },
  "orig_nbformat": 4
 },
 "nbformat": 4,
 "nbformat_minor": 2
}
