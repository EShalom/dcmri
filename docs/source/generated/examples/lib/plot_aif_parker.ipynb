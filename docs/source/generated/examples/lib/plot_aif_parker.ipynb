{
  "cells": [
    {
      "cell_type": "markdown",
      "metadata": {},
      "source": [
        "\n# The Parker AIF\n\nUse `~dcmri.aif_parker` to generate a Parker AIF with different settings. \n"
      ]
    },
    {
      "cell_type": "markdown",
      "metadata": {},
      "source": [
        "Import necessary packages\n\n"
      ]
    },
    {
      "cell_type": "code",
      "execution_count": null,
      "metadata": {
        "collapsed": false
      },
      "outputs": [],
      "source": [
        "import numpy as np\nimport matplotlib.pyplot as plt\nimport dcmri"
      ]
    },
    {
      "cell_type": "markdown",
      "metadata": {},
      "source": [
        "Generate synthetic AIF and plot the result.\n\n"
      ]
    },
    {
      "cell_type": "code",
      "execution_count": null,
      "metadata": {
        "collapsed": false
      },
      "outputs": [],
      "source": [
        "# Define time points in units of seconds.\n# In this case we use a time resolution of 0.5 sec \n# and a total duration of 6 minutes:\nt = np.arange(0, 6*60, 0.5)\n\n# Create an AIF with arrival time of 0:\nca = dcmri.aif_parker(t)\n\n# Plot the AIF over the full range\nplt.plot(t, ca*1000, 'r-')\nplt.plot(t, 0*t, 'k-')\nplt.xlabel('Time (sec)')\nplt.ylabel('Plasma concentration (mM)')\nplt.show()"
      ]
    },
    {
      "cell_type": "markdown",
      "metadata": {},
      "source": [
        "The bolus arrival time (BAT) defaults to 0s. What happens if we change it? Let's try, by changing it in steps of 30s:\n\n"
      ]
    },
    {
      "cell_type": "code",
      "execution_count": null,
      "metadata": {
        "collapsed": false
      },
      "outputs": [],
      "source": [
        "# Create AIfs with different BAT's:\nca1 = dcmri.aif_parker(t, BAT=0)\nca2 = dcmri.aif_parker(t, BAT=30)\nca3 = dcmri.aif_parker(t, BAT=60)\nca4 = dcmri.aif_parker(t, BAT=90)\n\n# Show them all on the same plot:\nplt.plot(t, ca1*1000, 'b-', label='BAT = 0s')\nplt.plot(t, ca2*1000, 'r-', label='BAT = 30s')\nplt.plot(t, ca3*1000, 'g-', label='BAT = 60s')\nplt.plot(t, ca4*1000, 'm-', label='BAT = 90s')\nplt.xlabel('Time (sec)')\nplt.ylabel('Plasma concentration (mM)')\nplt.legend()\nplt.show()\n\n\n# Choose the last image as a thumbnail for the gallery\n# sphinx_gallery_thumbnail_number = -1"
      ]
    }
  ],
  "metadata": {
    "kernelspec": {
      "display_name": "Python 3",
      "language": "python",
      "name": "python3"
    },
    "language_info": {
      "codemirror_mode": {
        "name": "ipython",
        "version": 3
      },
      "file_extension": ".py",
      "mimetype": "text/x-python",
      "name": "python",
      "nbconvert_exporter": "python",
      "pygments_lexer": "ipython3",
      "version": "3.10.10"
    }
  },
  "nbformat": 4,
  "nbformat_minor": 0
}