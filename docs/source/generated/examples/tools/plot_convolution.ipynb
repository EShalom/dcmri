{
  "cells": [
    {
      "cell_type": "markdown",
      "metadata": {},
      "source": [
        "\n# A comparison of convolution functions\n\nUsing the convolution functions `~dcmri.conv`, `~dcmri.expconv`, `~dcmri.stepconv`, `~dcmri.biexpconv` and `~dcmri.nexpconv`. \n"
      ]
    },
    {
      "cell_type": "code",
      "execution_count": null,
      "metadata": {
        "collapsed": false
      },
      "outputs": [],
      "source": [
        "import time\nimport numpy as np\nfrom scipy.stats import norm\nimport matplotlib.pyplot as plt\nimport dcmri as dc"
      ]
    },
    {
      "cell_type": "markdown",
      "metadata": {},
      "source": [
        "## Convolving any two functions\nGenerate two normalized gaussian distributions f(t) and h(t) and use `~dcmri.conv` to convolve them. Compare the result to `numpy.convolve`:\n\n"
      ]
    },
    {
      "cell_type": "code",
      "execution_count": null,
      "metadata": {
        "collapsed": false
      },
      "outputs": [],
      "source": [
        "t = np.linspace(0, 100, 50)\nf = norm.pdf(t, 30, 5)\nh = norm.pdf(t, 60, 10)\ng = dc.conv(h, f, t)\ng1 = np.convolve(h, f, mode='same')\nplt.plot(t, f, 'r-', label='f(t)')\nplt.plot(t, h, 'b-', label='h(t)')\nplt.plot(t, g, 'k-', label='dcmri.conv')\nplt.plot(g1, 'k:', label='numpy.convolve')\nplt.title('Convolution of two gaussian distributions')\nplt.legend()\nplt.show()"
      ]
    },
    {
      "cell_type": "markdown",
      "metadata": {},
      "source": [
        "While there is clearly some relation between both results, they are not in any way similar. The `~numpy.convolve` result is shifted compared to `~dcmri.conv` and has a lower amplitude. This shows that caution is needed when applying convolution formulae from different libraries in a tracer-kinetic setting.\n\n"
      ]
    },
    {
      "cell_type": "markdown",
      "metadata": {},
      "source": [
        "## Convolution with an exponential\nIn the special case where one of the factors is an exponential function, the function `~dcmri.expconv` is more accurate than `~dcmri.conv`, though the difference is small at this time resolution:\n\n"
      ]
    },
    {
      "cell_type": "code",
      "execution_count": null,
      "metadata": {
        "collapsed": false
      },
      "outputs": [],
      "source": [
        "Tf = 20\nf = np.exp(-t/Tf)/Tf\ng0 = dc.conv(h, f, t)\ng1 = dc.expconv(h, Tf, t)\nplt.plot(t, f, 'r-', label='f(t)')\nplt.plot(t, h, 'b-', label='h(t)')\nplt.plot(t, g0, 'k-', label='conv()')\nplt.plot(t, g1, color='gray', linestyle='-', label='expconv()')\nplt.title('Comparison of conv() and expconv()')\nplt.legend()\nplt.show()"
      ]
    },
    {
      "cell_type": "markdown",
      "metadata": {},
      "source": [
        "However, `~dcmri.expconv` comes with a major improvement in computation time compared to `~dcmri.conv`. Hence `~dcmri.expconv` should be used instead of `~dcmri.conv` whenever applicable. We illustrate the effect by applying the functions 500 times and measuring the total computation time in each case. The acceleration is alomst 3 orders of magnitude:\n\n"
      ]
    },
    {
      "cell_type": "code",
      "execution_count": null,
      "metadata": {
        "collapsed": false
      },
      "outputs": [],
      "source": [
        "start = time.time()\nfor _ in range(500):\n    dc.conv(h, f, t)\nprint('Computation time for conv(): ', time.time()-start, 'sec')\nstart = time.time()\nfor _ in range(500):\n    dc.expconv(h, Tf, t)\nprint('Computation time for expconv(): ', time.time()-start, 'sec')"
      ]
    },
    {
      "cell_type": "markdown",
      "metadata": {},
      "source": [
        "Incidentally since the time array in this case is uniform, `~dcmri.conv` can be accelerated by specifying dt instead of t in the arguments. However the performance remains far below `~dcmri.expconv`:\n\n"
      ]
    },
    {
      "cell_type": "code",
      "execution_count": null,
      "metadata": {
        "collapsed": false
      },
      "outputs": [],
      "source": [
        "start = time.time()\nfor i in range(500):\n    dc.conv(h, f, dt=t[1])\nprint('Computation time for conv() with uniform times: ', time.time()-start, 'sec')"
      ]
    },
    {
      "cell_type": "markdown",
      "metadata": {},
      "source": [
        "The difference in accuracy between `~dcmri.conv` and `~dcmri.expconv` becomes more apparent at lower temporal resolution but generally remains minor. Using 10 time points instead of 50 as above we start seeing some effect:\n\n"
      ]
    },
    {
      "cell_type": "code",
      "execution_count": null,
      "metadata": {
        "collapsed": false
      },
      "outputs": [],
      "source": [
        "t = np.linspace(0, 120, 10)\nh = norm.pdf(t, 60, 10)\nf = np.exp(-t/Tf)/Tf\ng0 = dc.conv(h, f, t)\ng1 = dc.expconv(h, Tf, t)\nplt.plot(t, f, 'r-', label='f(t)')\nplt.plot(t, h, 'b-', label='h(t)')\nplt.plot(t, g0, 'k-', label='conv()')\nplt.plot(t, g1, color='gray', linestyle='-', label='expconv()')\nplt.title('Comparison of conv() and expconv() at lower resolution')\nplt.legend()\nplt.show()"
      ]
    },
    {
      "cell_type": "markdown",
      "metadata": {},
      "source": [
        "## Convolving two or more exponentials\nIf both functions are exponentials, convolution can be accelerated further with `~dcmri.biexpconv`, which uses an analytical formula to calculate the convolution: \n\n"
      ]
    },
    {
      "cell_type": "code",
      "execution_count": null,
      "metadata": {
        "collapsed": false
      },
      "outputs": [],
      "source": [
        "Th = 10\nstart = time.time()\nfor i in range(1000):\n    dc.expconv(h, Tf, t)\nprint('Computation time for expconv(): ', time.time()-start, 'sec')\nstart = time.time()\nfor i in range(1000):\n    dc.biexpconv(Th, Tf, t)\nprint('Computation time for biexpconv(): ', time.time()-start, 'sec')"
      ]
    },
    {
      "cell_type": "markdown",
      "metadata": {},
      "source": [
        "The difference in computation time is small in this case, but using an analytical formula also comes with some improvements in accuracy. This is apparent at lower time resolution:\n\n"
      ]
    },
    {
      "cell_type": "code",
      "execution_count": null,
      "metadata": {
        "collapsed": false
      },
      "outputs": [],
      "source": [
        "h = np.exp(-t/Th)/Th\ng0 = dc.expconv(h, Tf, t)\ng1 = dc.biexpconv(Th, Tf, t)\nplt.plot(t, f, 'r-', label='f(t)')\nplt.plot(t, h, 'b-', label='h(t)')\nplt.plot(t, g0, 'k-', label='expconv()')\nplt.plot(t, g1, color='gray', linestyle='-', label='biexpconv()')\nplt.title('Comparison of expconv() and biexpconv()')\nplt.legend()\nplt.show()"
      ]
    },
    {
      "cell_type": "markdown",
      "metadata": {},
      "source": [
        "The final convolution function `~dcmri.nexpconv` convolves n indentical exponentials with mean transit time T analytically. We illustrate the result by keeping the total mean transit time MTT=nT constant, and increasing n from 1 to 100. As the number of exponentials increases, the convolution converges to a delta function positioned on t=MTT:\n\n"
      ]
    },
    {
      "cell_type": "code",
      "execution_count": null,
      "metadata": {
        "collapsed": false
      },
      "outputs": [],
      "source": [
        "MTT = 30\nt = np.linspace(0, 120, 500)\ng1 = dc.nexpconv(1, MTT/1, t)\ng10 = dc.nexpconv(10, MTT/10, t)\ng100 = dc.nexpconv(100, MTT/100, t)\nplt.plot(t, g1, 'r-', label='1 exponential')\nplt.plot(t, g10, 'g-', label='10 exponentials')\nplt.plot(t, g100, 'b-', label='100 exponentials')\nplt.title('Convolutions of identical gaussian distributions')\nplt.legend()\nplt.show()"
      ]
    },
    {
      "cell_type": "markdown",
      "metadata": {},
      "source": [
        "## Convolution with a step function\n`dcmri` also provides a dedicated function `~dcmri.stepconv` for convolution with a step function. We illustrate this function here and compare against `~dcmri.conv`:\n\n"
      ]
    },
    {
      "cell_type": "code",
      "execution_count": null,
      "metadata": {
        "collapsed": false
      },
      "outputs": [],
      "source": [
        "n = 15\nt = np.linspace(0, 120, n)\nf = norm.pdf(t, 30, 10)\nT, D = 45, 0.5\n# Construct a step function explicitly and use `~dcmri.conv`\nT0, T1 = T-D*T, T+D*T\nh = np.zeros(n)\nh[(t>=T0)*(t<=T1)] = 1/(T1-T0)\ng0 = dc.conv(h, f, t)\n# Convolve with a step function directly using `~dcmri.stepconv`\ng1 = dc.stepconv(f, T, D, t)\n# Compare results\nplt.plot(t, f, 'r-', label='f(t)')\nplt.plot(t, g0, 'k-', label='conv()')\nplt.plot(t, g1, color='gray', linestyle='-', label='stepconv()')\nplt.title('Comparison of conv() and stepconv()')\nplt.legend()\nplt.show()"
      ]
    },
    {
      "cell_type": "markdown",
      "metadata": {},
      "source": [
        "As with `~dcmri.expconv` the difference between `~dcmri.stepconv` and `~dcmri.conv` is relatively small even for coarse time grids such as the above, but there is a more substantial gain in computation time: \n\n"
      ]
    },
    {
      "cell_type": "code",
      "execution_count": null,
      "metadata": {
        "collapsed": false
      },
      "outputs": [],
      "source": [
        "start = time.time()\nfor _ in range(500):\n    dc.conv(h, f, t)\nprint('Computation time for conv(): ', time.time()-start, 'sec')\nstart = time.time()\nfor _ in range(500):\n    dc.stepconv(f, T, D, t)\nprint('Computation time for stepconv(): ', time.time()-start, 'sec')"
      ]
    }
  ],
  "metadata": {
    "kernelspec": {
      "display_name": "Python 3",
      "language": "python",
      "name": "python3"
    },
    "language_info": {
      "codemirror_mode": {
        "name": "ipython",
        "version": 3
      },
      "file_extension": ".py",
      "mimetype": "text/x-python",
      "name": "python",
      "nbconvert_exporter": "python",
      "pygments_lexer": "ipython3",
      "version": "3.10.10"
    }
  },
  "nbformat": 4,
  "nbformat_minor": 0
}