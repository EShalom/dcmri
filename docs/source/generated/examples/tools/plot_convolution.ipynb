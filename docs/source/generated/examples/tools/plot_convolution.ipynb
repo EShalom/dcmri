{
  "cells": [
    {
      "cell_type": "markdown",
      "metadata": {},
      "source": [
        "\n# A comparison of convolution functions\n\nUsing the convolution functions `~dcmri.conv`, `~dcmri.expconv`, `~dcmri.biexpconv` and `~dcmri.nexpconv`. \n"
      ]
    },
    {
      "cell_type": "code",
      "execution_count": null,
      "metadata": {
        "collapsed": false
      },
      "outputs": [],
      "source": [
        "import time\nimport numpy as np\nfrom scipy.stats import norm\nimport matplotlib.pyplot as plt\nimport dcmri as dc"
      ]
    },
    {
      "cell_type": "markdown",
      "metadata": {},
      "source": [
        "Generate two normalized gaussian distributions f(t) and h(t) and use `~dcmri.conv` to convolve them. Compare the result to `numpy.convolve`:\n\n"
      ]
    },
    {
      "cell_type": "code",
      "execution_count": null,
      "metadata": {
        "collapsed": false
      },
      "outputs": [],
      "source": [
        "t = np.linspace(0, 100, 50)\nf = norm.pdf(t, 30, 5)\nh = norm.pdf(t, 60, 10)\ng = dc.conv(h, f, t)\ng1 = np.convolve(h, f, mode='same')\nplt.plot(t, f, 'r-', label='f(t)')\nplt.plot(t, h, 'b-', label='h(t)')\nplt.plot(t, g, 'k-', label='dcmri.conv')\nplt.plot(g1, 'k:', label='numpy.convolve')\nplt.title('Convolution of two gaussian distributions')\nplt.legend()\nplt.show()"
      ]
    },
    {
      "cell_type": "markdown",
      "metadata": {},
      "source": [
        "While there is clearly some relation between both results, they are not in any way similar. The `~numpy.convolve` result is shifted compared to `~dcmri.conv` and has a lower amplitude. This shows that caution is needed when applying convolution formulae from different libraries in a tracer-kinetic setting.\n\n"
      ]
    },
    {
      "cell_type": "markdown",
      "metadata": {},
      "source": [
        "In the special case where one of the factors is an exponential function, the function `~dcmri.expconv` is more accurate than `~dcmri.conv`, though the difference is small at this time resolution:\n\n"
      ]
    },
    {
      "cell_type": "code",
      "execution_count": null,
      "metadata": {
        "collapsed": false
      },
      "outputs": [],
      "source": [
        "Tf = 20\nf = np.exp(-t/Tf)/Tf\ng0 = dc.conv(h, f, t)\ng1 = dc.expconv(h, Tf, t)\nplt.plot(t, f, 'r-', label='f(t)')\nplt.plot(t, h, 'b-', label='h(t)')\nplt.plot(t, g0, 'k-', label='conv()')\nplt.plot(t, g1, color='gray', linestyle='-', label='expconv()')\nplt.title('Comparison of conv() and expconv()')\nplt.legend()\nplt.show()"
      ]
    },
    {
      "cell_type": "markdown",
      "metadata": {},
      "source": [
        "However, `~dcmri.expconv` comes with a major improvement in computation time compared to `~dcmri.conv`, showing the that `~dcmri.expconv` should be used whenever applicable. We illustrate the effect by applying the functions 500 times and measuring the total computation time in each case:\n\n"
      ]
    },
    {
      "cell_type": "code",
      "execution_count": null,
      "metadata": {
        "collapsed": false
      },
      "outputs": [],
      "source": [
        "start = time.time()\nfor _ in range(500):\n    dc.conv(h, f, t)\nprint('Computation time for conv(): ', time.time()-start, 'sec')\nstart = time.time()\nfor _ in range(500):\n    dc.expconv(h, Tf, t)\nprint('Computation time for expconv(): ', time.time()-start, 'sec')"
      ]
    },
    {
      "cell_type": "markdown",
      "metadata": {},
      "source": [
        "Incidentally since the time array in this case is uniform, `~dcmri.conv` can be accelerated by specifying dt instead of t in the arguments. However the performance remains far below `~dcmri.expconv`:\n\n"
      ]
    },
    {
      "cell_type": "code",
      "execution_count": null,
      "metadata": {
        "collapsed": false
      },
      "outputs": [],
      "source": [
        "start = time.time()\nfor i in range(500):\n    dc.conv(h, f, dt=t[1])\nprint('Computation time for conv() with uniform times: ', time.time()-start, 'sec')"
      ]
    },
    {
      "cell_type": "markdown",
      "metadata": {},
      "source": [
        "The difference in accuracy between `~dcmri.conv` and `~dcmri.expconv` becomes more apparent at lower temporal resolution but generally remains minor. Using 10 time points instead of 50 as above we start seeing some effect:\n\n"
      ]
    },
    {
      "cell_type": "code",
      "execution_count": null,
      "metadata": {
        "collapsed": false
      },
      "outputs": [],
      "source": [
        "t = np.linspace(0, 120, 10)\nh = norm.pdf(t, 60, 10)\nf = np.exp(-t/Tf)/Tf\ng0 = dc.conv(h, f, t)\ng1 = dc.expconv(h, Tf, t)\nplt.plot(t, f, 'r-', label='f(t)')\nplt.plot(t, h, 'b-', label='h(t)')\nplt.plot(t, g0, 'k-', label='conv()')\nplt.plot(t, g1, color='gray', linestyle='-', label='expconv()')\nplt.title('Comparison of conv() and expconv() at lower resolution')\nplt.legend()\nplt.show()"
      ]
    },
    {
      "cell_type": "markdown",
      "metadata": {},
      "source": [
        "If both functions are exponentials, convolution can be accelerated further with `~dcmri.biexpconv`, which uses an analytical formula to calculate the convolution: \n\n"
      ]
    },
    {
      "cell_type": "code",
      "execution_count": null,
      "metadata": {
        "collapsed": false
      },
      "outputs": [],
      "source": [
        "Th = 10\nstart = time.time()\nfor i in range(1000):\n    dc.expconv(h, Tf, t)\nprint('Computation time for expconv(): ', time.time()-start, 'sec')\nstart = time.time()\nfor i in range(1000):\n    dc.biexpconv(Th, Tf, t)\nprint('Computation time for biexpconv(): ', time.time()-start, 'sec')"
      ]
    },
    {
      "cell_type": "markdown",
      "metadata": {},
      "source": [
        "Using an analytical formula also comes with some improvements in accuracy, which is apparent at lower time resolution:\n\n"
      ]
    },
    {
      "cell_type": "code",
      "execution_count": null,
      "metadata": {
        "collapsed": false
      },
      "outputs": [],
      "source": [
        "h = np.exp(-t/Th)/Th\ng0 = dc.expconv(h, Tf, t)\ng1 = dc.biexpconv(Th, Tf, t)\nplt.plot(t, f, 'r-', label='f(t)')\nplt.plot(t, h, 'b-', label='h(t)')\nplt.plot(t, g0, 'k-', label='expconv()')\nplt.plot(t, g1, color='gray', linestyle='-', label='biexpconv()')\nplt.title('Comparison of expconv() and biexpconv()')\nplt.legend()\nplt.show()"
      ]
    },
    {
      "cell_type": "markdown",
      "metadata": {},
      "source": [
        "The final convolution function `~dcmri.nexpconv` convolves n indentical exponentials with mean transit time T analytically. We illustrate the result by keeping the total mean transit time MTT=nT constant, and increasing n from 1 to 100:\n\n"
      ]
    },
    {
      "cell_type": "code",
      "execution_count": null,
      "metadata": {
        "collapsed": false
      },
      "outputs": [],
      "source": [
        "MTT = 30\nt = np.linspace(0, 120, 500)\ng1 = dc.nexpconv(1, MTT/1, t)\ng10 = dc.nexpconv(10, MTT/10, t)\ng100 = dc.nexpconv(100, MTT/100, t)\nplt.plot(t, g1, 'r-', label='1 exponential')\nplt.plot(t, g10, 'g-', label='10 exponentials')\nplt.plot(t, g100, 'b-', label='100 exponentials')\nplt.title('Convolutions of identical gaussian distributions')\nplt.legend()\nplt.show()"
      ]
    },
    {
      "cell_type": "markdown",
      "metadata": {},
      "source": [
        "As the number of exponentials increases, the convolution converges to a delta function positioned on t=MTT. This is because the system models a bolus transit through n identical compartments, which become increasing smaller at higher n and thus allow less bolus dispersion. A system like this is referred to as a chain in `~dcmri` which has the compartment (n=1) and the plug flow system (n=infty) as special cases.\n\n"
      ]
    },
    {
      "cell_type": "code",
      "execution_count": null,
      "metadata": {
        "collapsed": false
      },
      "outputs": [],
      "source": [
        "# Choose the last image as a thumbnail for the gallery\n# sphinx_gallery_thumbnail_number = -1"
      ]
    }
  ],
  "metadata": {
    "kernelspec": {
      "display_name": "Python 3",
      "language": "python",
      "name": "python3"
    },
    "language_info": {
      "codemirror_mode": {
        "name": "ipython",
        "version": 3
      },
      "file_extension": ".py",
      "mimetype": "text/x-python",
      "name": "python",
      "nbconvert_exporter": "python",
      "pygments_lexer": "ipython3",
      "version": "3.10.10"
    }
  },
  "nbformat": 4,
  "nbformat_minor": 0
}